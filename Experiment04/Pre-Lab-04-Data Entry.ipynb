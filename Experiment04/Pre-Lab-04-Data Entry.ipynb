{
 "cells": [
  {
   "cell_type": "markdown",
   "id": "b53bf196-346c-4b0f-82fb-fa88843963c4",
   "metadata": {
    "tags": []
   },
   "source": [
    "# PHYS 219 - Pre-Lab 04 - Data Entry"
   ]
  },
  {
   "cell_type": "markdown",
   "id": "07aac0c4-6105-4722-83e3-fb65bdb755ab",
   "metadata": {
    "tags": []
   },
   "source": [
    "Lab 04 and many of your remaining labs will use data that you acquire by hand on the oscilloscope and need to enter point-by-point in a CSV file. This pre-lab gives you some initial practice at the data entry, and working with some new functions.\n",
    "\n",
    "If you are using the phys229 Jupyter Hub server (highly recommended), or have already installed the data_entry2 package on a local install when taking PHYS119, you can skip the next section which describes how to install. Otherwise, proceed..."
   ]
  },
  {
   "cell_type": "markdown",
   "id": "e0462830-3b50-43cf-a556-a8748bddbcd9",
   "metadata": {
    "jp-MarkdownHeadingCollapsed": true
   },
   "source": [
    "# Installing data_entry2 (ignore if using the phys229 server)"
   ]
  },
  {
   "cell_type": "markdown",
   "id": "7ed8f243-a813-46aa-b68a-495010e1326c",
   "metadata": {},
   "source": [
    "You need to begin by installing a data entry package developed by Professor Carl Michal for the PHYS 119 lab. Many of you will have used this before. Once you have run this once, you will probably not need to do it again. To avoid seeing the installation messages any more, you can comment the three lines of code out with # in front of the line, and re-run the cell.\n",
    "\n",
    "A few tips:\n",
    "* if you are using Anaconda, you may have some issues with the ipywidgets package; based on experience, the best approach is to create a new environment with a minimal install of python, Jupyter, and numpy.\n",
    "* in an anaconda terminal window, install ipydatagrid by entering the command `conda install conda-forge::ipydatagrid`\n",
    "* then pip install data_entry2 as below which will add any other dependencies\n",
    "* then add matplotlib which you will also need (I did this last, and had trouble the other way around, so try this)\n",
    "* after all this, you may have shortcuts defined for your numerical entry 1 thru 6, which obviously doesn't work for entering numerical data. For a summary of how to change these see: https://towardsdatascience.com/customizing-jupyter-lab-shortcuts-6857492647d2\n",
    "* if all else fails, or this seems like too much... use our server where everything is installed and tested..."
   ]
  },
  {
   "cell_type": "code",
   "execution_count": null,
   "id": "a1fbda22-8496-4054-b8a4-6e89a3754e71",
   "metadata": {
    "tags": []
   },
   "outputs": [],
   "source": [
    "!wget -N --quiet https://www.phas.ubc.ca/~michal/data_entry2.py # download data_entry.py\n",
    "%run data_entry2.py  # install it.\n",
    "!pip install --user ipydatagrid  # install jupyter extensions. "
   ]
  },
  {
   "cell_type": "markdown",
   "id": "ec299fd5-ac5f-44cc-afba-6fa8ce73ade3",
   "metadata": {},
   "source": [
    "# Running the Data Entry Code"
   ]
  },
  {
   "cell_type": "markdown",
   "id": "d877451e-a3bf-4f39-8c77-6a555d6d9834",
   "metadata": {},
   "source": [
    "Any time you want to run the data entry code, you begin by importing two packages: 'numpy' and 'data_entry2.\n",
    "\n",
    "When you run this, you will see a simple spreadsheet appear, and also a new CSV file will appear in the directory that you are using. You can choose a different name for the CSV file.\n",
    "\n",
    "For your first practice with this, you will be entering the results from your Experiment 02. The format will be the same as you other CSV files so far - four columns containing x-variable, uncertainty in the x variable, y-variable, and the uncertainty in the y-variable. \n",
    "\n",
    "For this pre-lab, enter your Lab 02 results for the time constant $\\tau$ from varying resistance. So, resistance is the x-variable, and the decay time tau ($\\tau$) is the y-variable. We have already entered column heading for you in the file 'lab04_prelab_data.csv', you just need to enter your data. For large or small numbers, you can enter scientific notation with an \"e\" to denote $\\times10^{something}$. So, 0.002 can be entered as \"2e-3\".\n",
    "\n",
    "As you enter your data, the CSV file is automatically updated. When you are done, you can click on the CSV file in your directory and view it."
   ]
  },
  {
   "cell_type": "code",
   "execution_count": null,
   "id": "375594a9-fa71-47ff-860d-3c7419ba726f",
   "metadata": {
    "tags": []
   },
   "outputs": [],
   "source": [
    "import numpy as py\n",
    "import data_entry2"
   ]
  },
  {
   "cell_type": "code",
   "execution_count": null,
   "id": "01d88e75-9347-484f-bb21-9fba5ea84014",
   "metadata": {},
   "outputs": [],
   "source": [
    "de = data_entry2.sheet(\"lab04_prelab_data\")"
   ]
  },
  {
   "cell_type": "markdown",
   "id": "a1879af6-5d95-4418-9ce4-e04fd93c193c",
   "metadata": {},
   "source": [
    "## Plotting Your Data"
   ]
  },
  {
   "cell_type": "markdown",
   "id": "4a70ed9e-3a63-48ff-864c-f854e8df60d9",
   "metadata": {},
   "source": [
    "We include here a simple code used for just plotting your data with error bars, so that you can view the data that you just entered. You should add axis labels and a title. Once you are satisfied with the result, save as a PDF and submit."
   ]
  },
  {
   "cell_type": "code",
   "execution_count": null,
   "id": "cb5c125a-f7ea-4a57-a56a-719c046a3a62",
   "metadata": {
    "tags": []
   },
   "outputs": [],
   "source": [
    "# import the  library numpy  and rename it  np\n",
    "import numpy as np\n",
    "import array\n",
    "\n",
    "# import the library matplotlib and rename it plot\n",
    "import matplotlib.pyplot as plt\n",
    "#name  the input file  with the data\n",
    "fname = 'lab04_prelab_data.csv'\n",
    "\n",
    "# This block reads in data - the file is assumed to be in csv format (comma separated variables). \n",
    "# Files need to be specified with a full path OR they have to be saved in the same folder as the script\n",
    "# \n",
    "data = np.loadtxt(fname, delimiter=',', comments='#',usecols=(0,1,2,3),skiprows=2)\n",
    "\n",
    "# generate an array which is the first column of data.  Note the first column is \n",
    "# indexed as zero.\n",
    "x = data[:,0]\n",
    "# generate an array for the x uncertainty  (column index  1)\n",
    "x_sigma = data[:,1]\n",
    "# generate an array for the y values (column index 2)\n",
    "y = data[:,2]\n",
    "# generate an array for y uncertainty (column index 3) \n",
    "y_sigma = data[:,3]\n",
    "\n",
    "# This block creates a plot\n",
    "\n",
    "plt.errorbar(x,y,xerr=x_sigma,yerr=y_sigma,marker='.',linestyle='',label=\"measured data\")\n",
    "plt.xlabel(' ')\n",
    "plt.ylabel(' ')\n",
    "plt.title(' ')\n",
    "plt.show()"
   ]
  },
  {
   "cell_type": "markdown",
   "id": "21e2aa4a-f443-46a7-a602-08674f6be677",
   "metadata": {},
   "source": [
    "# The new functions"
   ]
  },
  {
   "cell_type": "markdown",
   "id": "33091ceb-7283-406e-ad37-0e342bdee7bb",
   "metadata": {},
   "source": [
    "You will be working with 2 new functions this week that describe the response of the circuit to a sinusoidal voltage as a function of frequency. Let's practice plotting these functions so we can take a look at their functional form. You should also explore how dense data points will need to be, and what range of frequencies are reasonable to explore so you are ready to work efficiently in the lab."
   ]
  },
  {
   "cell_type": "markdown",
   "id": "69ddf59d-d44b-468a-bba6-cfefc5d2aac4",
   "metadata": {},
   "source": [
    "## RC response curve"
   ]
  },
  {
   "cell_type": "markdown",
   "id": "18464b1d-f28d-4296-8a93-c96619aee4fd",
   "metadata": {},
   "source": [
    "The RC response curve follows the form:\n",
    "$$V_c(f)=\\frac{V_{in}^0}{\\sqrt{1+(2\\pi fRC)^2}}$$\n",
    "\n",
    "We need to define new function where f -> x, and RC -> tau, and $V_{in}^0$ -> V0\n",
    "\n",
    "`def RCresp_func(x, tau, V0):\n",
    "    return V0/(1+(2*np.pi*tau*x)**2)`\n",
    "\n",
    "This function has been entered below. Check over the code block and make sure you have the right set of parameters, and enter some reasonable initial parameters (try calculating from the nominal values given in the instructions for Experiment 4 or from your measurements in Experiments 2 and 3), and change the frequency range and point spacing to get a sense of how you will determine your measurement space. \n",
    "\n",
    "Keep in mind that you will be taking measurements \"by hand\", so you will have limited time to collect data: 500 points might be a nice starting place to see the function here, but you will want to limit your collection to what you have time and patience for (maybe 20-40 points). In the lab you aren't constrained to take data at equally spaced intervals, so this will also help you see where to focus your time.\n",
    "\n",
    "To finish this section, make sure your final plots show:\n",
    "* response function with a reasonable set of parameters with justification (calculated either from nominal values or from your measurements)\n",
    "* a reasonable range of frequency to capture the functional form\n",
    "* a density of data points that captures the functional form, but is achievable when taking data (add a note if you plan to change the density of the data points in different regions"
   ]
  },
  {
   "cell_type": "code",
   "execution_count": null,
   "id": "1a5a79cc-ead5-4348-b8ef-3e8450cf15f5",
   "metadata": {},
   "outputs": [],
   "source": [
    "# Code to calculate and plot the response function\n",
    "\n",
    "# import the  necessary libraries and rename them\n",
    "import numpy as np\n",
    "import array\n",
    "import pandas as pd\n",
    "import matplotlib.pyplot as plt\n",
    "\n",
    "# Define the Functions for the RC and LRC responses\n",
    "\n",
    "def RCresp_func(x, tau, V0):\n",
    "    return V0/np.sqrt(1+(2*np.pi*tau*x)**2)\n",
    "\n",
    "def LRCresp_func(x, f0, Vin, gamma):\n",
    "    return Vin/(np.sqrt(1+(2*np.pi/(gamma*x))**2*(x**2-f0**2)**2))\n",
    "\n",
    "# Select the fit function, define the Parameter Names, and give them numerical values\n",
    "\n",
    "fit_function = RCresp_func\n",
    "param_names = [\"tau\",\"V0\"]\n",
    "guesses = (0.0005,1.0)\n",
    "\n",
    "# Set the frequency range to plot over and number of points\n",
    "\n",
    "min_f=0\n",
    "max_f=2000\n",
    "npts=500\n",
    "\n",
    "# Define a set of x values that will be used for the calculation\n",
    "# Note that in your fitting code, x is defined differently \n",
    "#  - do not change that part of the fitting code when you get there.\n",
    "\n",
    "x = np.arange(min_f, max_f, (max_f-min_f)/npts)\n",
    "\n",
    "y_model = RCresp_func(x, *guesses)\n",
    "\n",
    "plt.plot(x,y_model,\".\")\n",
    "plt.xlabel(\"frequency\")\n",
    "plt.ylabel(\"Voltage\")\n",
    "plt.title(\"RC response\")\n",
    "\n",
    "plt.show()"
   ]
  },
  {
   "cell_type": "markdown",
   "id": "ec63478c-c37c-47db-8133-c6c2c37c0afc",
   "metadata": {},
   "source": [
    "## LRC response curve"
   ]
  },
  {
   "cell_type": "markdown",
   "id": "e6ae14bb-d11d-43b0-99f9-976c838ceea9",
   "metadata": {},
   "source": [
    "For the LRC circuit we need to plot the amplitude vs. frequency for the resonantor, which is expected to follow:\n",
    "$$V_R^0(f)=\\frac{V_{in}^0}{\\sqrt{1+(\\frac{2\\pi}{\\gamma f})^2(f^2-f_0^2)^2}}$$\n",
    "with f -> x, $\\gamma$ -> gamma, $V_{in}^0$ -> Vin, and $f_0$ -> f0\n",
    "\n",
    "This is defined below as:\n",
    "`def LRCresp_func(x, f0, Vin, gamma):\n",
    "    return Vin/(np.sqrt(1+(2*np.pi/(gamma*x))**2*(x**2-f0**2)**2))`\n",
    "\n",
    "In the code block below, change the function from the RC response to LRC response, and similarly enter some reasonable parameters (based on nominal component values or your recent measurements), and test some different point spacing and frequency range to see how you might plan out a measurement. Your final plot should reflect a reasonable parameter set, frequency range, and density of points as above for the RC response curve."
   ]
  },
  {
   "cell_type": "code",
   "execution_count": null,
   "id": "e624ccd9-74b9-4008-bf0f-11bd43c61d57",
   "metadata": {},
   "outputs": [],
   "source": [
    "# Code to calculate and plot the response function\n",
    "\n",
    "# import the  necessary libraries and rename them\n",
    "import numpy as np\n",
    "import array\n",
    "import pandas as pd\n",
    "import matplotlib.pyplot as plt\n",
    "\n",
    "# Define the Functions for the RC and LRC responses\n",
    "\n",
    "def RCresp_func(x, tau, V0):\n",
    "    return V0/np.sqrt(1+(2*np.pi*tau*x)**2)\n",
    "\n",
    "def LRCresp_func(x, f0, Vin, gamma):\n",
    "    return Vin/(np.sqrt(1+(2*np.pi/(gamma*x))**2*(x**2-f0**2)**2))\n",
    "\n",
    "# Select the fit function, define the Parameter Names, and give them numerical values\n",
    "\n",
    "fit_function = RCresp_func\n",
    "param_names = [\"tau\",\"V0\"]\n",
    "guesses = (0.0005,1.0)\n",
    "\n",
    "# Set the frequency range to plot over and number of points\n",
    "\n",
    "min_f=0\n",
    "max_f=2000\n",
    "npts=500\n",
    "\n",
    "# Define a set of x values that will be used for the calculation\n",
    "# Note that in your fitting code, x is defined differently \n",
    "#  - do not change that part of the fitting code when you get there.\n",
    "\n",
    "x = np.arange(min_f, max_f, (max_f-min_f)/npts)\n",
    "\n",
    "y_model = RCresp_func(x, *guesses)\n",
    "\n",
    "plt.plot(x,y_model,\".\")\n",
    "plt.xlabel(\"frequency\")\n",
    "plt.ylabel(\"Voltage\")\n",
    "plt.title(\"RC response\")\n",
    "\n",
    "plt.show()"
   ]
  },
  {
   "cell_type": "markdown",
   "id": "4992e160-12df-447e-b13d-635962fc9edc",
   "metadata": {},
   "source": [
    "That's it for this pre-lab. In the lab you'll be taking lots of measurements from the oscilloscope, and entering it manually. It's a good idea to plot as you go to make sure you're getting enough data points in the right regions, and you haven't made an obvious data entry error. "
   ]
  }
 ],
 "metadata": {
  "kernelspec": {
   "display_name": "Python 3 (ipykernel)",
   "language": "python",
   "name": "python3"
  },
  "language_info": {
   "codemirror_mode": {
    "name": "ipython",
    "version": 3
   },
   "file_extension": ".py",
   "mimetype": "text/x-python",
   "name": "python",
   "nbconvert_exporter": "python",
   "pygments_lexer": "ipython3",
   "version": "3.12.4"
  },
  "widgets": {
   "application/vnd.jupyter.widget-state+json": {
    "state": {
     "018dd4406ef845a898bf6dc0d09b4864": {
      "model_module": "@jupyter-widgets/base",
      "model_module_version": "2.0.0",
      "model_name": "LayoutModel",
      "state": {
       "height": "130px"
      }
     },
     "073de90b62364720a70033d698682dc7": {
      "model_module": "@jupyter-widgets/base",
      "model_module_version": "2.0.0",
      "model_name": "LayoutModel",
      "state": {}
     },
     "0e4bfc273d8146949661503ea5c37900": {
      "model_module": "@jupyter-widgets/controls",
      "model_module_version": "2.0.0",
      "model_name": "ButtonModel",
      "state": {
       "description": "Redo",
       "layout": "IPY_MODEL_165ad2852c7e4850a3bb01b3b89e696d",
       "style": "IPY_MODEL_40f20c2aae014267b580d9b7d5fed705",
       "tooltip": null
      }
     },
     "165ad2852c7e4850a3bb01b3b89e696d": {
      "model_module": "@jupyter-widgets/base",
      "model_module_version": "2.0.0",
      "model_name": "LayoutModel",
      "state": {}
     },
     "18b4f88602324cbc8d9c9280db246643": {
      "model_module": "@jupyter-widgets/base",
      "model_module_version": "2.0.0",
      "model_name": "LayoutModel",
      "state": {}
     },
     "26db541f5dd94569bde32fdb92867ffc": {
      "model_module": "@jupyter-widgets/base",
      "model_module_version": "2.0.0",
      "model_name": "LayoutModel",
      "state": {}
     },
     "2ccc21b0852146e282747b895a6dad4e": {
      "model_module": "ipydatagrid",
      "model_module_version": "^1.1.16",
      "model_name": "TextRendererModel",
      "state": {
       "_model_module_version": "^1.1.16",
       "_view_module_version": "^1.1.16",
       "background_color": "IPY_MODEL_a3a8a4097b1f400ea8dfb3f7ef10c3a0",
       "text_color": "IPY_MODEL_a55195bd0827440b812685083cbded26"
      }
     },
     "40f20c2aae014267b580d9b7d5fed705": {
      "model_module": "@jupyter-widgets/controls",
      "model_module_version": "2.0.0",
      "model_name": "ButtonStyleModel",
      "state": {
       "font_family": null,
       "font_size": null,
       "font_style": null,
       "font_variant": null,
       "font_weight": null,
       "text_color": null,
       "text_decoration": null
      }
     },
     "4987dc41713545aa8ddaced5ad5ce2d7": {
      "model_module": "@jupyter-widgets/controls",
      "model_module_version": "2.0.0",
      "model_name": "HBoxModel",
      "state": {
       "children": [
        "IPY_MODEL_e29e91cd25dd43e9b0bf810a2be20ff8",
        "IPY_MODEL_0e4bfc273d8146949661503ea5c37900",
        "IPY_MODEL_9450b89bd855409299870dd6fdf2efe9",
        "IPY_MODEL_6af20573faf64b049cff70d6fa966807",
        "IPY_MODEL_ff44125618874a0fb77d549942d58b8f"
       ],
       "layout": "IPY_MODEL_18b4f88602324cbc8d9c9280db246643"
      }
     },
     "49dd0a8cae124cafaf29278babda19e6": {
      "model_module": "@jupyter-widgets/base",
      "model_module_version": "2.0.0",
      "model_name": "LayoutModel",
      "state": {}
     },
     "52411912262c43d183345bb00faf36c8": {
      "model_module": "@jupyter-widgets/controls",
      "model_module_version": "2.0.0",
      "model_name": "ButtonStyleModel",
      "state": {
       "font_family": null,
       "font_size": null,
       "font_style": null,
       "font_variant": null,
       "font_weight": null,
       "text_color": null,
       "text_decoration": null
      }
     },
     "6af20573faf64b049cff70d6fa966807": {
      "model_module": "@jupyter-widgets/controls",
      "model_module_version": "2.0.0",
      "model_name": "ButtonModel",
      "state": {
       "description": "Add Column",
       "layout": "IPY_MODEL_8b75735ec7854ba5aecf868a93c26266",
       "style": "IPY_MODEL_8091c365b48e4383abb1bccc293ce352",
       "tooltip": null
      }
     },
     "8091c365b48e4383abb1bccc293ce352": {
      "model_module": "@jupyter-widgets/controls",
      "model_module_version": "2.0.0",
      "model_name": "ButtonStyleModel",
      "state": {
       "font_family": null,
       "font_size": null,
       "font_style": null,
       "font_variant": null,
       "font_weight": null,
       "text_color": null,
       "text_decoration": null
      }
     },
     "82e9a5368dee499d9e83af2ee05f0c1b": {
      "model_module": "@jupyter-widgets/controls",
      "model_module_version": "2.0.0",
      "model_name": "VBoxModel",
      "state": {
       "children": [
        "IPY_MODEL_4987dc41713545aa8ddaced5ad5ce2d7",
        "IPY_MODEL_bbd15ca6d4b1429e98199ae79b866680",
        "IPY_MODEL_f9b3edb003cd450f9c391ce9f8122a7f"
       ],
       "layout": "IPY_MODEL_49dd0a8cae124cafaf29278babda19e6"
      }
     },
     "890220af8df04e71b71dcee9186fbc80": {
      "model_module": "@jupyter-widgets/base",
      "model_module_version": "2.0.0",
      "model_name": "LayoutModel",
      "state": {}
     },
     "8b75735ec7854ba5aecf868a93c26266": {
      "model_module": "@jupyter-widgets/base",
      "model_module_version": "2.0.0",
      "model_name": "LayoutModel",
      "state": {}
     },
     "9450b89bd855409299870dd6fdf2efe9": {
      "model_module": "@jupyter-widgets/controls",
      "model_module_version": "2.0.0",
      "model_name": "ButtonModel",
      "state": {
       "description": "Add Row",
       "layout": "IPY_MODEL_ca4023f674904c0da593c803ddbf660e",
       "style": "IPY_MODEL_f4af65b2e733407290ca57b42885c81c",
       "tooltip": null
      }
     },
     "a3a8a4097b1f400ea8dfb3f7ef10c3a0": {
      "model_module": "ipydatagrid",
      "model_module_version": "^1.1.16",
      "model_name": "VegaExprModel",
      "state": {
       "_model_module_version": "^1.1.16",
       "_view_module": "ipydatagrid",
       "_view_module_version": "^1.1.16",
       "_view_name": "VegaExprView"
      }
     },
     "a55195bd0827440b812685083cbded26": {
      "model_module": "ipydatagrid",
      "model_module_version": "^1.1.16",
      "model_name": "VegaExprModel",
      "state": {
       "_model_module_version": "^1.1.16",
       "_view_module": "ipydatagrid",
       "_view_module_version": "^1.1.16",
       "_view_name": "VegaExprView"
      }
     },
     "b5946c0536074d39afc03158cb2d4109": {
      "model_module": "@jupyter-widgets/controls",
      "model_module_version": "2.0.0",
      "model_name": "ButtonStyleModel",
      "state": {
       "font_family": null,
       "font_size": null,
       "font_style": null,
       "font_variant": null,
       "font_weight": null,
       "text_color": null,
       "text_decoration": null
      }
     },
     "b7812c37672c4968b179fd31853d80fb": {
      "model_module": "@jupyter-widgets/base",
      "model_module_version": "2.0.0",
      "model_name": "LayoutModel",
      "state": {}
     },
     "bbd15ca6d4b1429e98199ae79b866680": {
      "model_module": "ipydatagrid",
      "model_module_version": "^1.1.16",
      "model_name": "DataGridModel",
      "state": {
       "_data": {
        "data": [
         {
          "0": "Resistance",
          "1": "u[Resistance]",
          "2": "tau",
          "3": "u[tau]",
          "ipydguuid": 0,
          "key": "  Variable:"
         },
         {
          "0": "Ohms",
          "1": "Ohms",
          "2": "sec",
          "3": "sec",
          "ipydguuid": 1,
          "key": " Units:"
         },
         {
          "0": "1",
          "1": "0.1",
          "2": "2",
          "3": "0.1",
          "ipydguuid": 2,
          "key": 0
         },
         {
          "0": "3",
          "1": "0.2",
          "2": "4",
          "3": "0.2",
          "ipydguuid": 3,
          "key": 1
         }
        ],
        "fields": [
         {
          "key": null
         },
         {
          "0": null
         },
         {
          "1": null
         },
         {
          "2": null
         },
         {
          "3": null
         },
         {
          "ipydguuid": null
         }
        ],
        "schema": {
         "fields": [
          {
           "name": "key",
           "type": "string"
          },
          {
           "name": 0,
           "type": "string"
          },
          {
           "name": 1,
           "type": "string"
          },
          {
           "name": 2,
           "type": "string"
          },
          {
           "name": 3,
           "type": "string"
          },
          {
           "name": "ipydguuid",
           "type": "integer"
          }
         ],
         "pandas_version": "1.4.0",
         "primaryKey": [
          "key",
          "ipydguuid"
         ],
         "primaryKeyUuid": "ipydguuid"
        }
       },
       "_model_module_version": "^1.1.16",
       "_model_name": "DataGridModel",
       "_view_module_version": "^1.1.16",
       "_visible_rows": [
        0,
        1,
        2,
        3
       ],
       "auto_fit_columns": false,
       "auto_fit_params": {
        "area": "all",
        "numCols": null,
        "padding": 30
       },
       "base_column_header_size": 20,
       "base_column_size": 64,
       "base_row_header_size": 64,
       "base_row_size": 20,
       "default_renderer": "IPY_MODEL_2ccc21b0852146e282747b895a6dad4e",
       "editable": true,
       "header_visibility": "all",
       "layout": "IPY_MODEL_018dd4406ef845a898bf6dc0d09b4864",
       "selection_mode": "cell"
      }
     },
     "ca4023f674904c0da593c803ddbf660e": {
      "model_module": "@jupyter-widgets/base",
      "model_module_version": "2.0.0",
      "model_name": "LayoutModel",
      "state": {}
     },
     "e29e91cd25dd43e9b0bf810a2be20ff8": {
      "model_module": "@jupyter-widgets/controls",
      "model_module_version": "2.0.0",
      "model_name": "ButtonModel",
      "state": {
       "description": "Undo",
       "layout": "IPY_MODEL_890220af8df04e71b71dcee9186fbc80",
       "style": "IPY_MODEL_b5946c0536074d39afc03158cb2d4109",
       "tooltip": null
      }
     },
     "f4af65b2e733407290ca57b42885c81c": {
      "model_module": "@jupyter-widgets/controls",
      "model_module_version": "2.0.0",
      "model_name": "ButtonStyleModel",
      "state": {
       "font_family": null,
       "font_size": null,
       "font_style": null,
       "font_variant": null,
       "font_weight": null,
       "text_color": null,
       "text_decoration": null
      }
     },
     "f9b3edb003cd450f9c391ce9f8122a7f": {
      "model_module": "@jupyter-widgets/output",
      "model_module_version": "1.0.0",
      "model_name": "OutputModel",
      "state": {
       "layout": "IPY_MODEL_26db541f5dd94569bde32fdb92867ffc",
       "outputs": [
        {
         "name": "stdout",
         "output_type": "stream",
         "text": "Found 2 valid rows\n\nCreated array:\n ResistanceVec = np.array([1.0, 3.0])\n\nCreated array:\n uResistanceVec = np.array([0.1, 0.2])\n\nCreated array:\n tauVec = np.array([2.0, 4.0])\n\nCreated array:\n utauVec = np.array([0.1, 0.2])\n"
        }
       ]
      }
     },
     "ff44125618874a0fb77d549942d58b8f": {
      "model_module": "@jupyter-widgets/controls",
      "model_module_version": "2.0.0",
      "model_name": "ButtonModel",
      "state": {
       "description": "Generate Vectors",
       "layout": "IPY_MODEL_b7812c37672c4968b179fd31853d80fb",
       "style": "IPY_MODEL_52411912262c43d183345bb00faf36c8",
       "tooltip": null
      }
     }
    },
    "version_major": 2,
    "version_minor": 0
   }
  }
 },
 "nbformat": 4,
 "nbformat_minor": 5
}
